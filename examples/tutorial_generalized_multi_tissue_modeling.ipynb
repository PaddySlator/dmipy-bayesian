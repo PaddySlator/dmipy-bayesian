{
 "cells": [
  {
   "cell_type": "markdown",
   "metadata": {},
   "source": [
    "# Generalized Multi-Tissue Modeling\n",
    "The measured PGSE diffusion signal depends on Echo Time (TE), gradient strength (G), orientation $\\textbf{n}$, pulse separation $\\Delta$ and pulse duration $\\delta$. The signal representation can be separated in terms of amplitude and the shape:\n",
    "\n",
    "\\begin{equation}\\label{eq:separation}\n",
    "S(G, \\textbf{n}, \\Delta, \\delta, TE)=S_0(TE)\\cdot E(G,\\textbf{n}, \\Delta, \\delta).\n",
    "\\end{equation}\n",
    "\n",
    "where we can notice that the amplitude only depends on TE and the shape on all the others. In most models (NODDI, SMT, VERDICT etc.) ONLY the signal shape is fitted. Fitting the signal itself has only been explored in Multi-Tissue models like Multi-Tissue CSD.\n",
    "\n",
    "In Dmipy, we generalize multi-tissue modeling to ANY MC, MC-SM and MC-SH model. \n",
    "\n",
    "## Setting up a Multi-Tissue model : Example Multi-Tissue Ball and Stick\n",
    "\n",
    "### Instantiate base models"
   ]
  },
  {
   "cell_type": "code",
   "execution_count": 1,
   "metadata": {},
   "outputs": [],
   "source": [
    "from dmipy.signal_models import gaussian_models, cylinder_models\n",
    "\n",
    "# setting base models\n",
    "ball = gaussian_models.G1Ball()\n",
    "stick = cylinder_models.C1Stick()\n",
    "models = [ball, stick]\n",
    "\n",
    "# setting arbitrary S0 values for the example\n",
    "S0_ball = 12.\n",
    "S0_stick = 8.\n",
    "S0_responses = [S0_ball, S0_stick]"
   ]
  },
  {
   "cell_type": "markdown",
   "metadata": {},
   "source": [
    "### Instantiate Multi-tissue Ball and Stick for standard MC-model\n",
    "A multi-tissue model is created exactly as a regular one - only the S0 response values need to be given at the upon multi-compartment model instantiation."
   ]
  },
  {
   "cell_type": "code",
   "execution_count": 2,
   "metadata": {},
   "outputs": [],
   "source": [
    "from dmipy.core import modeling_framework\n",
    "mt_BAS_standard = modeling_framework.MultiCompartmentModel(\n",
    "    models=models,\n",
    "    S0_tissue_responses=S0_responses)"
   ]
  },
  {
   "cell_type": "markdown",
   "metadata": {},
   "source": [
    "### Simulate some test signal\n",
    "The multi-tissue model only differs from a standard model when fitting it to data. When simulating data it will still generate the signal attenuation."
   ]
  },
  {
   "cell_type": "code",
   "execution_count": 3,
   "metadata": {},
   "outputs": [
    {
     "data": {
      "text/plain": [
       "(288,)"
      ]
     },
     "execution_count": 3,
     "metadata": {},
     "output_type": "execute_result"
    }
   ],
   "source": [
    "from dmipy.data.saved_acquisition_schemes import wu_minn_hcp_acquisition_scheme\n",
    "scheme = wu_minn_hcp_acquisition_scheme()\n",
    "\n",
    "# generate test data.\n",
    "params = {\n",
    "    'G1Ball_1_lambda_iso': 3e-9,\n",
    "    'C1Stick_1_mu': [0., 0.],\n",
    "    'C1Stick_1_lambda_par': 1.7e-9,\n",
    "    'partial_volume_0': 0.5,  # equal volume fractions as SIGNAL fractions\n",
    "    'partial_volume_1': 0.5\n",
    "}\n",
    "\n",
    "# total signal intensity is 10\n",
    "S0_signal = 10.\n",
    "S = mt_BAS_standard.simulate_signal(scheme, params) * S0_signal\n",
    "S.shape"
   ]
  },
  {
   "cell_type": "markdown",
   "metadata": {},
   "source": [
    "### Fit Multi-Tissue model and compare estimated fractions\n",
    "We can fit the model as usual, as the multi-tissue optimization occurs AFTER the standard optimization. It is therefore independent and naturally follows other approaches."
   ]
  },
  {
   "cell_type": "code",
   "execution_count": 4,
   "metadata": {},
   "outputs": [
    {
     "name": "stdout",
     "output_type": "stream",
     "text": [
      "Using parallel processing with 8 workers.\n",
      "Setup brute2fine optimizer in 0.332586050034 seconds\n",
      "Fitting of 1 voxels complete in 0.553920984268 seconds.\n",
      "Average of 0.553920984268 seconds per voxel.\n",
      "Starting secondary multi-tissue optimization.\n",
      "Multi-tissue fitting of 1 voxels complete in 0.00136590003967 seconds.\n"
     ]
    }
   ],
   "source": [
    "mt_BAS_standard_fit = mt_BAS_standard.fit(scheme, S)"
   ]
  },
  {
   "cell_type": "markdown",
   "metadata": {},
   "source": [
    "We now have access the the **signal fractions based on the signal attenuation**, and the non-normalized and normalized **volume fractions based on the **signal**."
   ]
  },
  {
   "cell_type": "code",
   "execution_count": 5,
   "metadata": {},
   "outputs": [],
   "source": [
    "sig_fracts = mt_BAS_standard_fit.fitted_parameters\n",
    "vol_fracts = mt_BAS_standard_fit.fitted_multi_tissue_fractions\n",
    "vol_fracts_norm = mt_BAS_standard_fit.fitted_multi_tissue_fractions_normalized"
   ]
  },
  {
   "cell_type": "markdown",
   "metadata": {},
   "source": [
    "We can see that as we added equal signal fractions of the ball and stick, that indeed the estimated signal fractions are equal to each other."
   ]
  },
  {
   "cell_type": "code",
   "execution_count": 6,
   "metadata": {},
   "outputs": [
    {
     "data": {
      "text/plain": [
       "{'C1Stick_1_lambda_par': array([1.69975574e-09]),\n",
       " 'C1Stick_1_mu': array([[ 3.14156351, -0.65826994]]),\n",
       " 'G1Ball_1_lambda_iso': array([3.e-09]),\n",
       " 'partial_volume_0': array([0.50001804]),\n",
       " 'partial_volume_1': array([0.49998196])}"
      ]
     },
     "execution_count": 6,
     "metadata": {},
     "output_type": "execute_result"
    }
   ],
   "source": [
    "sig_fracts"
   ]
  },
  {
   "cell_type": "markdown",
   "metadata": {},
   "source": [
    "But the non-normalized volume fractions after the secondary optimization (which does only estimated the linear volume fractions and does not impose unity) are now scaled according to the tissue-specific S0 responses:"
   ]
  },
  {
   "cell_type": "code",
   "execution_count": 7,
   "metadata": {},
   "outputs": [
    {
     "data": {
      "text/plain": [
       "{'partial_volume_0': array([0.4167901]),\n",
       " 'partial_volume_1': array([0.62500692])}"
      ]
     },
     "execution_count": 7,
     "metadata": {},
     "output_type": "execute_result"
    }
   ],
   "source": [
    "vol_fracts"
   ]
  },
  {
   "cell_type": "markdown",
   "metadata": {},
   "source": [
    "But as it's valuable to find the normalized volume fractions, we also easily provide the normalized volume fractions. Here, we can now see that while the signal fraction is indeed equal, the **volume** fraction, actually in terms of signal production by diffusing particles, is in fact 0.4 to 0.6."
   ]
  },
  {
   "cell_type": "code",
   "execution_count": 8,
   "metadata": {},
   "outputs": [
    {
     "data": {
      "text/plain": [
       "{'partial_volume_0': array([0.40006843]),\n",
       " 'partial_volume_1': array([0.59993157])}"
      ]
     },
     "execution_count": 8,
     "metadata": {},
     "output_type": "execute_result"
    }
   ],
   "source": [
    "vol_fracts_norm"
   ]
  },
  {
   "cell_type": "markdown",
   "metadata": {},
   "source": [
    "Note here that we can only set the S0 response to a signal value for an MC-model (no voxel varying) and currently data with multiple TE (so multiple S0 responses per model) is not implemented."
   ]
  },
  {
   "cell_type": "markdown",
   "metadata": {},
   "source": [
    "## Multi-Tissue Spherical Mean Modeling\n",
    "Setting up Multi-Tissue modeling is exactly the same when setting up MC-spherical mean models:"
   ]
  },
  {
   "cell_type": "code",
   "execution_count": 9,
   "metadata": {},
   "outputs": [
    {
     "name": "stdout",
     "output_type": "stream",
     "text": [
      "Using parallel processing with 8 workers.\n",
      "emean 3.425800320368238\n",
      "emean 2.3937949986066385\n",
      "emean 1.9601890280398429\n",
      "Setup brute2fine optimizer in 0.0430829524994 seconds\n",
      "Fitting of 1 voxels complete in 0.0924401283264 seconds.\n",
      "Average of 0.0924401283264 seconds per voxel.\n",
      "Starting secondary multi-tissue optimization.\n",
      "Multi-tissue fitting of 1 voxels complete in 0.00108790397644 seconds.\n"
     ]
    }
   ],
   "source": [
    "mt_BAS_sm = modeling_framework.MultiCompartmentSphericalMeanModel(\n",
    "    models=models,\n",
    "    S0_tissue_responses=S0_responses)\n",
    "mt_BAS_sm_fit = mt_BAS_sm.fit(scheme, S)"
   ]
  },
  {
   "cell_type": "code",
   "execution_count": 10,
   "metadata": {},
   "outputs": [
    {
     "data": {
      "text/plain": [
       "{'C1Stick_1_lambda_par': array([1.55262663e-09]),\n",
       " 'G1Ball_1_lambda_iso': array([2.99995881e-09]),\n",
       " 'partial_volume_0': array([0.51901797]),\n",
       " 'partial_volume_1': array([0.48098203])}"
      ]
     },
     "execution_count": 10,
     "metadata": {},
     "output_type": "execute_result"
    }
   ],
   "source": [
    "mt_BAS_sm_fit.fitted_parameters"
   ]
  },
  {
   "cell_type": "code",
   "execution_count": 11,
   "metadata": {},
   "outputs": [
    {
     "data": {
      "text/plain": [
       "{'partial_volume_0': array([0.4325418]),\n",
       " 'partial_volume_1': array([0.60115111])}"
      ]
     },
     "execution_count": 11,
     "metadata": {},
     "output_type": "execute_result"
    }
   ],
   "source": [
    "mt_BAS_sm_fit.fitted_multi_tissue_fractions"
   ]
  },
  {
   "cell_type": "markdown",
   "metadata": {},
   "source": [
    "## Multi-Tissue Spherical Harmonics Modeling\n",
    "Similarly, MC-SH models are instantiated the same"
   ]
  },
  {
   "cell_type": "code",
   "execution_count": 12,
   "metadata": {},
   "outputs": [],
   "source": [
    "mt_BAS_sh = modeling_framework.MultiCompartmentSphericalHarmonicsModel(\n",
    "    models=models,\n",
    "    S0_tissue_responses=S0_responses)"
   ]
  },
  {
   "cell_type": "markdown",
   "metadata": {},
   "source": [
    "But the fitting procedure is slightly differently implemented as a 1-step optimization because fitting spherical harmonics is convex already."
   ]
  },
  {
   "cell_type": "markdown",
   "metadata": {},
   "source": [
    "## Implications"
   ]
  },
  {
   "cell_type": "markdown",
   "metadata": {},
   "source": [
    "Including tissue responses allows to correct a *signal fraction* estimation to a *volume fraction* estimation. Fitting an MC-model representing tissues with different *true* S0 responses without including these estimates will result in biased volume fraction estimated.\n",
    "\n",
    "As a good example, CSF has a much higher S0 response than white matter. This results in vast overestimation of CSF volume fractions in models such as NODDI. We illustrate in the Multi-Tissue NODDI [example](https://nbviewer.jupyter.org/github/AthenaEPI/dmipy/blob/master/examples/example_multi_tissue_noddi.ipynb)."
   ]
  }
 ],
 "metadata": {
  "kernelspec": {
   "display_name": "Python 2",
   "language": "python",
   "name": "python2"
  },
  "language_info": {
   "codemirror_mode": {
    "name": "ipython",
    "version": 2
   },
   "file_extension": ".py",
   "mimetype": "text/x-python",
   "name": "python",
   "nbconvert_exporter": "python",
   "pygments_lexer": "ipython2",
   "version": "2.7.15"
  }
 },
 "nbformat": 4,
 "nbformat_minor": 2
}
